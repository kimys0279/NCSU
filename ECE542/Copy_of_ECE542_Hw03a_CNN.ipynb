{
  "nbformat": 4,
  "nbformat_minor": 0,
  "metadata": {
    "colab": {
      "name": "Copy of ECE542 - Hw03a - CNN.ipynb",
      "provenance": [],
      "collapsed_sections": [],
      "toc_visible": true,
      "include_colab_link": true
    },
    "kernelspec": {
      "name": "python3",
      "display_name": "Python 3"
    },
    "accelerator": "GPU"
  },
  "cells": [
    {
      "cell_type": "markdown",
      "metadata": {
        "id": "view-in-github",
        "colab_type": "text"
      },
      "source": [
        "<a href=\"https://colab.research.google.com/github/kimys0279/NCSU/blob/main/ECE542/Copy_of_ECE542_Hw03a_CNN.ipynb\" target=\"_parent\"><img src=\"https://colab.research.google.com/assets/colab-badge.svg\" alt=\"Open In Colab\"/></a>"
      ]
    },
    {
      "cell_type": "markdown",
      "metadata": {
        "id": "-xwitz2wBmmG"
      },
      "source": [
        "# **Exploring Convolutional Neural Networks**\n",
        "\n",
        "In this notebook, we will explore some of the basic tools for regularization and hyper-parameter tuning for neural networks.\n",
        "\n"
      ]
    },
    {
      "cell_type": "code",
      "metadata": {
        "id": "6NcBPjVCdMgK"
      },
      "source": [
        "import numpy as np\n",
        "import matplotlib.pyplot as plt\n",
        "\n",
        "import keras\n",
        "from keras.datasets import cifar10\n",
        "from keras.utils import to_categorical\n",
        "from keras.models import Sequential\n",
        "from keras.layers import Conv2D, MaxPooling2D, Flatten, Dense, Activation, BatchNormalization, Dropout\n",
        "\n",
        "from tensorflow.keras import regularizers\n",
        "\n",
        "from keras.optimizers import SGD, Adam, RMSprop\n",
        "\n",
        "from sklearn.model_selection import GridSearchCV\n",
        "from keras.wrappers.scikit_learn import KerasClassifier\n",
        "\n",
        "from keras.models import Sequential\n",
        "from keras.layers import Dense\n",
        "from keras.wrappers.scikit_learn import KerasClassifier\n",
        "from keras.optimizers import SGD\n",
        "from sklearn.model_selection import cross_val_score\n",
        "from sklearn.preprocessing import LabelEncoder\n",
        "from sklearn.model_selection import StratifiedKFold\n",
        "from sklearn.preprocessing import StandardScaler\n",
        "from sklearn.pipeline import Pipeline"
      ],
      "execution_count": null,
      "outputs": []
    },
    {
      "cell_type": "markdown",
      "metadata": {
        "id": "X-3WETNQiamR"
      },
      "source": [
        "## Load and Splitting Data\n",
        "\n",
        "We Will make use of the CIFAR10 dataset."
      ]
    },
    {
      "cell_type": "code",
      "metadata": {
        "id": "e10W6I2QbDH6",
        "colab": {
          "base_uri": "https://localhost:8080/"
        },
        "outputId": "1f5e6540-20af-4d0b-ce7e-62f70f29bbf1"
      },
      "source": [
        "# Loading train and test dataset\n",
        "(trainingX, trainingY), (testX, testY) = cifar10.load_data()\n",
        "labels = {0:\"airplane\", 1:\"automobile\", 2:\"bird\", 3:\"cat\", 4:\"deer\", 5:\"dog\", 6:\"frog\", 7:\"horse\", 8:\"ship\", 9:\"truck\"}\n",
        "\n",
        "# Keeping 20% for Validation\n",
        "valid_set_pc = 0.2\n",
        "split= int((len(trainingX))*(1-valid_set_pc))\n",
        "\n",
        "validX = trainingX[split:]\n",
        "validY = trainingY[split:]\n",
        "\n",
        "trainX = trainingX[:split]\n",
        "trainY = trainingY[:split]"
      ],
      "execution_count": null,
      "outputs": [
        {
          "output_type": "stream",
          "text": [
            "Downloading data from https://www.cs.toronto.edu/~kriz/cifar-10-python.tar.gz\n",
            "170500096/170498071 [==============================] - 2s 0us/step\n"
          ],
          "name": "stdout"
        }
      ]
    },
    {
      "cell_type": "code",
      "metadata": {
        "id": "Jh9Zdh4xOQyU",
        "colab": {
          "base_uri": "https://localhost:8080/",
          "height": 283
        },
        "outputId": "e4fda240-4100-4695-d151-8978609000ba"
      },
      "source": [
        "# Showing a samples from the dataset\n",
        "sampleID = 100\n",
        "plt.imshow(trainX[sampleID])\n",
        "print(labels[trainY[sampleID][0]])"
      ],
      "execution_count": null,
      "outputs": [
        {
          "output_type": "stream",
          "text": [
            "ship\n"
          ],
          "name": "stdout"
        },
        {
          "output_type": "display_data",
          "data": {
            "image/png": "[encoded data removed]",
            "text/plain": [
              "<Figure size 432x288 with 1 Axes>"
            ]
          },
          "metadata": {
            "tags": [],
            "needs_background": "light"
          }
        }
      ]
    },
    {
      "cell_type": "code",
      "metadata": {
        "id": "ds8L26hSbsfr"
      },
      "source": [
        "# Convert from integers to floats\n",
        "trainingX = trainingX.astype('float32')\n",
        "trainX = trainX.astype('float32')\n",
        "validX = validX.astype('float32')\n",
        "testX  = testX.astype('float32')\n",
        "\n",
        "# Normalize to range 0-1\n",
        "trainingX = trainingX / 255.0\n",
        "trainX = trainX / 255.0\n",
        "validX = validX / 255.0\n",
        "testX  = testX / 255.0\n",
        "\n",
        "# One-hot encoding of outputs\n",
        "trainingY = to_categorical(trainingY)\n",
        "trainY = to_categorical(trainY)\n",
        "validY = to_categorical(validY)\n",
        "testY  = to_categorical(testY)"
      ],
      "execution_count": null,
      "outputs": []
    },
    {
      "cell_type": "markdown",
      "metadata": {
        "id": "Oejdojf2E99q"
      },
      "source": [
        "## Training a Base CNN Model"
      ]
    },
    {
      "cell_type": "code",
      "metadata": {
        "id": "2HOohn5l4RoF",
        "colab": {
          "base_uri": "https://localhost:8080/"
        },
        "outputId": "b0c1a16d-d7fb-4ba4-e74f-f82b3135880e"
      },
      "source": [
        "# Defining Base CNN Model\n",
        "def define_base_model():\n",
        "\tmodel = Sequential()\n",
        " \n",
        "\tmodel.add(Conv2D(256, (3, 3), activation='relu',  padding='same', input_shape=(32, 32, 3)))\n",
        "\tmodel.add(MaxPooling2D((2, 2)))\n",
        " \n",
        "\tmodel.add(Conv2D(256, (3, 3), activation='relu',  padding='same'))\n",
        "\tmodel.add(MaxPooling2D((2, 2)))\n",
        " \n",
        "\tmodel.add(Conv2D(256, (3, 3), activation='relu',  padding='same'))\n",
        "\tmodel.add(MaxPooling2D((2, 2)))\n",
        " \n",
        "\tmodel.add(Flatten())\n",
        "\tmodel.add(Dense(1024, activation='relu'))\n",
        "\tmodel.add(Dense(10, activation='softmax'))\n",
        " \n",
        "\treturn model\n",
        "\n",
        "# Creating an instance\n",
        "base_model = define_base_model()\n",
        "base_model.summary()\n",
        "base_model.compile(optimizer=SGD(), loss='categorical_crossentropy', metrics=['accuracy'])"
      ],
      "execution_count": null,
      "outputs": [
        {
          "output_type": "stream",
          "text": [
            "Model: \"sequential\"\n",
            "_________________________________________________________________\n",
            "Layer (type)                 Output Shape              Param #   \n",
            "=================================================================\n",
            "conv2d (Conv2D)              (None, 32, 32, 256)       7168      \n",
            "_________________________________________________________________\n",
            "max_pooling2d (MaxPooling2D) (None, 16, 16, 256)       0         \n",
            "_________________________________________________________________\n",
            "conv2d_1 (Conv2D)            (None, 16, 16, 256)       590080    \n",
            "_________________________________________________________________\n",
            "max_pooling2d_1 (MaxPooling2 (None, 8, 8, 256)         0         \n",
            "_________________________________________________________________\n",
            "conv2d_2 (Conv2D)            (None, 8, 8, 256)         590080    \n",
            "_________________________________________________________________\n",
            "max_pooling2d_2 (MaxPooling2 (None, 4, 4, 256)         0         \n",
            "_________________________________________________________________\n",
            "flatten (Flatten)            (None, 4096)              0         \n",
            "_________________________________________________________________\n",
            "dense (Dense)                (None, 1024)              4195328   \n",
            "_________________________________________________________________\n",
            "dense_1 (Dense)              (None, 10)                10250     \n",
            "=================================================================\n",
            "Total params: 5,392,906\n",
            "Trainable params: 5,392,906\n",
            "Non-trainable params: 0\n",
            "_________________________________________________________________\n"
          ],
          "name": "stdout"
        }
      ]
    },
    {
      "cell_type": "code",
      "metadata": {
        "id": "50IbgnrtcEf-",
        "colab": {
          "base_uri": "https://localhost:8080/"
        },
        "outputId": "9b78c9b8-9e5e-473a-de5f-5832902a4ef5"
      },
      "source": [
        "# Training base model\n",
        "base_history = base_model.fit(trainX, trainY, epochs=15, validation_data=(validX, validY), verbose=1)"
      ],
      "execution_count": null,
      "outputs": [
        {
          "output_type": "stream",
          "text": [
            "Epoch 1/15\n",
            "1250/1250 [==============================] - 45s 10ms/step - loss: 2.1717 - accuracy: 0.2053 - val_loss: 1.8253 - val_accuracy: 0.3595\n",
            "Epoch 2/15\n",
            "1250/1250 [==============================] - 11s 9ms/step - loss: 1.7497 - accuracy: 0.3746 - val_loss: 1.5396 - val_accuracy: 0.4517\n",
            "Epoch 3/15\n",
            "1250/1250 [==============================] - 12s 9ms/step - loss: 1.5072 - accuracy: 0.4647 - val_loss: 1.4173 - val_accuracy: 0.4897\n",
            "Epoch 4/15\n",
            "1250/1250 [==============================] - 12s 9ms/step - loss: 1.3772 - accuracy: 0.5083 - val_loss: 1.2932 - val_accuracy: 0.5459\n",
            "Epoch 5/15\n",
            "1250/1250 [==============================] - 12s 9ms/step - loss: 1.2612 - accuracy: 0.5519 - val_loss: 1.2112 - val_accuracy: 0.5769\n",
            "Epoch 6/15\n",
            "1250/1250 [==============================] - 11s 9ms/step - loss: 1.1765 - accuracy: 0.5827 - val_loss: 1.1499 - val_accuracy: 0.5920\n",
            "Epoch 7/15\n",
            "1250/1250 [==============================] - 12s 9ms/step - loss: 1.0720 - accuracy: 0.6224 - val_loss: 1.0882 - val_accuracy: 0.6194\n",
            "Epoch 8/15\n",
            "1250/1250 [==============================] - 11s 9ms/step - loss: 0.9838 - accuracy: 0.6562 - val_loss: 1.0210 - val_accuracy: 0.6459\n",
            "Epoch 9/15\n",
            "1250/1250 [==============================] - 11s 9ms/step - loss: 0.9162 - accuracy: 0.6776 - val_loss: 0.9858 - val_accuracy: 0.6614\n",
            "Epoch 10/15\n",
            "1250/1250 [==============================] - 12s 9ms/step - loss: 0.8482 - accuracy: 0.7081 - val_loss: 1.0102 - val_accuracy: 0.6541\n",
            "Epoch 11/15\n",
            "1250/1250 [==============================] - 12s 9ms/step - loss: 0.7847 - accuracy: 0.7265 - val_loss: 0.9563 - val_accuracy: 0.6759\n",
            "Epoch 12/15\n",
            "1250/1250 [==============================] - 12s 9ms/step - loss: 0.7182 - accuracy: 0.7517 - val_loss: 0.9052 - val_accuracy: 0.6980\n",
            "Epoch 13/15\n",
            "1250/1250 [==============================] - 12s 9ms/step - loss: 0.6550 - accuracy: 0.7749 - val_loss: 0.9395 - val_accuracy: 0.6859\n",
            "Epoch 14/15\n",
            "1250/1250 [==============================] - 11s 9ms/step - loss: 0.5965 - accuracy: 0.7961 - val_loss: 0.9145 - val_accuracy: 0.6948\n",
            "Epoch 15/15\n",
            "1250/1250 [==============================] - 12s 9ms/step - loss: 0.5269 - accuracy: 0.8211 - val_loss: 0.8707 - val_accuracy: 0.7129\n"
          ],
          "name": "stdout"
        }
      ]
    },
    {
      "cell_type": "code",
      "metadata": {
        "id": "psvubBDOsJYH",
        "colab": {
          "base_uri": "https://localhost:8080/",
          "height": 573
        },
        "outputId": "41048a8b-f3b6-4c00-f2f1-87415c8f1917"
      },
      "source": [
        "# Defining a function for plotting training and validation learning curves\n",
        "def plot_history(history):\n",
        "\t  # plot loss\n",
        "    plt.title('Loss')\n",
        "    plt.plot(history.history['loss'], color='blue', label='train')\n",
        "    plt.plot(history.history['val_loss'], color='red', label='test')\n",
        "    plt.ylabel('Loss')\n",
        "    plt.xlabel('Epoch')\n",
        "    plt.legend(['Train', 'Validation'])\n",
        "    plt.show()\n",
        "    \n",
        "    # plot accuracy\n",
        "    plt.title('Accuracy')\n",
        "    plt.plot(history.history['accuracy'], color='blue', label='train')\n",
        "    plt.plot(history.history['val_accuracy'], color='red', label='test')\n",
        "    plt.ylabel('Accuracy')\n",
        "    plt.xlabel('Epoch')\n",
        "    plt.legend(['Train', 'Validation'])\n",
        "    plt.show()\n",
        "  \n",
        "plot_history(base_history)"
      ],
      "execution_count": null,
      "outputs": [
        {
          "output_type": "display_data",
          "data": {
            "image/png": "[encoded data removed]",
            "text/plain": [
              "<Figure size 432x288 with 1 Axes>"
            ]
          },
          "metadata": {
            "tags": [],
            "needs_background": "light"
          }
        },
        {
          "output_type": "display_data",
          "data": {
            "image/png": "[encoded data removed]",
            "text/plain": [
              "<Figure size 432x288 with 1 Axes>"
            ]
          },
          "metadata": {
            "tags": [],
            "needs_background": "light"
          }
        }
      ]
    },
    {
      "cell_type": "markdown",
      "metadata": {
        "id": "Qrtm3IE2jyGN"
      },
      "source": [
        "# **[Task 1] Comparing Optimizers**\n",
        "\n",
        "The goal of of this section is to compare the performance of various optimizers: SGD with momentum, RMS Prop and Adam. Make sure you complete the following steps:\n",
        "\n",
        "1. Train the network with SGB with momentum\n",
        "2. Train the network with RMS Prop\n",
        "3. Train the network with Adam\n",
        "4. Create two plots showing accuracy for the training and validation sets\n",
        "5. Comment on the performance of each optimizer. Which one had the steepest learning curve? Which one gave the final best performance? \n",
        "\n",
        "\n"
      ]
    },
    {
      "cell_type": "code",
      "metadata": {
        "id": "WAImdmh5kCQ2",
        "colab": {
          "base_uri": "https://localhost:8080/"
        },
        "outputId": "38a3fd6f-9e4a-4e23-9571-e72ac7661433"
      },
      "source": [
        "# TODO - Training model with momentum \n",
        "def define_base_model():\n",
        "\tmodel = Sequential()\n",
        " \n",
        "\tmodel.add(Conv2D(256, (3, 3), activation='relu',  padding='same', input_shape=(32, 32, 3)))\n",
        "\tmodel.add(MaxPooling2D((2, 2)))\n",
        " \n",
        "\tmodel.add(Conv2D(256, (3, 3), activation='relu',  padding='same'))\n",
        "\tmodel.add(MaxPooling2D((2, 2)))\n",
        " \n",
        "\tmodel.add(Conv2D(256, (3, 3), activation='relu',  padding='same'))\n",
        "\tmodel.add(MaxPooling2D((2, 2)))\n",
        " \n",
        "\tmodel.add(Flatten())\n",
        "\tmodel.add(Dense(1024, activation='relu'))\n",
        "\tmodel.add(Dense(10, activation='softmax'))\n",
        " \n",
        "\treturn model\n",
        "\n",
        "\n",
        "base_model = define_base_model()\n",
        "base_model.summary()\n",
        "base_model.compile(optimizer=SGD(momentum=0.9), loss='categorical_crossentropy', metrics=['accuracy'])\n",
        "base_history = base_model.fit(trainX, trainY, epochs=15, validation_data=(validX, validY), verbose=1)"
      ],
      "execution_count": null,
      "outputs": [
        {
          "output_type": "stream",
          "text": [
            "Model: \"sequential_1\"\n",
            "_________________________________________________________________\n",
            "Layer (type)                 Output Shape              Param #   \n",
            "=================================================================\n",
            "conv2d_3 (Conv2D)            (None, 32, 32, 256)       7168      \n",
            "_________________________________________________________________\n",
            "max_pooling2d_3 (MaxPooling2 (None, 16, 16, 256)       0         \n",
            "_________________________________________________________________\n",
            "conv2d_4 (Conv2D)            (None, 16, 16, 256)       590080    \n",
            "_________________________________________________________________\n",
            "max_pooling2d_4 (MaxPooling2 (None, 8, 8, 256)         0         \n",
            "_________________________________________________________________\n",
            "conv2d_5 (Conv2D)            (None, 8, 8, 256)         590080    \n",
            "_________________________________________________________________\n",
            "max_pooling2d_5 (MaxPooling2 (None, 4, 4, 256)         0         \n",
            "_________________________________________________________________\n",
            "flatten_1 (Flatten)          (None, 4096)              0         \n",
            "_________________________________________________________________\n",
            "dense_2 (Dense)              (None, 1024)              4195328   \n",
            "_________________________________________________________________\n",
            "dense_3 (Dense)              (None, 10)                10250     \n",
            "=================================================================\n",
            "Total params: 5,392,906\n",
            "Trainable params: 5,392,906\n",
            "Non-trainable params: 0\n",
            "_________________________________________________________________\n",
            "Epoch 1/15\n",
            "1250/1250 [==============================] - 13s 10ms/step - loss: 1.8876 - accuracy: 0.3042 - val_loss: 1.2547 - val_accuracy: 0.5482\n",
            "Epoch 2/15\n",
            "1250/1250 [==============================] - 12s 10ms/step - loss: 1.1803 - accuracy: 0.5779 - val_loss: 1.1009 - val_accuracy: 0.6163\n",
            "Epoch 3/15\n",
            "1250/1250 [==============================] - 12s 10ms/step - loss: 0.8913 - accuracy: 0.6845 - val_loss: 0.8762 - val_accuracy: 0.6964\n",
            "Epoch 4/15\n",
            "1250/1250 [==============================] - 12s 10ms/step - loss: 0.6642 - accuracy: 0.7681 - val_loss: 0.7844 - val_accuracy: 0.7313\n",
            "Epoch 5/15\n",
            "1250/1250 [==============================] - 12s 10ms/step - loss: 0.4756 - accuracy: 0.8333 - val_loss: 0.9027 - val_accuracy: 0.7121\n",
            "Epoch 6/15\n",
            "1250/1250 [==============================] - 12s 9ms/step - loss: 0.3241 - accuracy: 0.8859 - val_loss: 0.9608 - val_accuracy: 0.7307\n",
            "Epoch 7/15\n",
            "1250/1250 [==============================] - 12s 10ms/step - loss: 0.2132 - accuracy: 0.9268 - val_loss: 0.9688 - val_accuracy: 0.7388\n",
            "Epoch 8/15\n",
            "1250/1250 [==============================] - 12s 9ms/step - loss: 0.1355 - accuracy: 0.9537 - val_loss: 1.1673 - val_accuracy: 0.7264\n",
            "Epoch 9/15\n",
            "1250/1250 [==============================] - 12s 10ms/step - loss: 0.1008 - accuracy: 0.9657 - val_loss: 1.3048 - val_accuracy: 0.7361\n",
            "Epoch 10/15\n",
            "1250/1250 [==============================] - 12s 9ms/step - loss: 0.0785 - accuracy: 0.9732 - val_loss: 1.3513 - val_accuracy: 0.7355\n",
            "Epoch 11/15\n",
            "1250/1250 [==============================] - 12s 10ms/step - loss: 0.0642 - accuracy: 0.9783 - val_loss: 1.4187 - val_accuracy: 0.7217\n",
            "Epoch 12/15\n",
            "1250/1250 [==============================] - 12s 9ms/step - loss: 0.0622 - accuracy: 0.9797 - val_loss: 1.4334 - val_accuracy: 0.7310\n",
            "Epoch 13/15\n",
            "1250/1250 [==============================] - 12s 10ms/step - loss: 0.0516 - accuracy: 0.9823 - val_loss: 1.4554 - val_accuracy: 0.7340\n",
            "Epoch 14/15\n",
            "1250/1250 [==============================] - 12s 10ms/step - loss: 0.0452 - accuracy: 0.9852 - val_loss: 1.5136 - val_accuracy: 0.7408\n",
            "Epoch 15/15\n",
            "1250/1250 [==============================] - 12s 10ms/step - loss: 0.0476 - accuracy: 0.9841 - val_loss: 1.5422 - val_accuracy: 0.7489\n"
          ],
          "name": "stdout"
        }
      ]
    },
    {
      "cell_type": "code",
      "metadata": {
        "id": "Cyi0YBgz2l1w",
        "colab": {
          "base_uri": "https://localhost:8080/"
        },
        "outputId": "508662db-802d-4740-d161-e761cef0fed7"
      },
      "source": [
        "# TODO - Training model with RMS Prop\n",
        "def define_base_model():\n",
        "\tmodel = Sequential()\n",
        " \n",
        "\tmodel.add(Conv2D(256, (3, 3), activation='relu',  padding='same', input_shape=(32, 32, 3)))\n",
        "\tmodel.add(MaxPooling2D((2, 2)))\n",
        " \n",
        "\tmodel.add(Conv2D(256, (3, 3), activation='relu',  padding='same'))\n",
        "\tmodel.add(MaxPooling2D((2, 2)))\n",
        " \n",
        "\tmodel.add(Conv2D(256, (3, 3), activation='relu',  padding='same'))\n",
        "\tmodel.add(MaxPooling2D((2, 2)))\n",
        " \n",
        "\tmodel.add(Flatten())\n",
        "\tmodel.add(Dense(1024, activation='relu'))\n",
        "\tmodel.add(Dense(10, activation='softmax'))\n",
        " \n",
        "\treturn model\n",
        "\n",
        "\n",
        "base_model = define_base_model()\n",
        "base_model.summary()\n",
        "base_model.compile(optimizer=RMSprop(), loss='categorical_crossentropy', metrics=['accuracy'])\n",
        "base_history = base_model.fit(trainX, trainY, epochs=15, validation_data=(validX, validY), verbose=1)"
      ],
      "execution_count": null,
      "outputs": [
        {
          "output_type": "stream",
          "text": [
            "Model: \"sequential_2\"\n",
            "_________________________________________________________________\n",
            "Layer (type)                 Output Shape              Param #   \n",
            "=================================================================\n",
            "conv2d_6 (Conv2D)            (None, 32, 32, 256)       7168      \n",
            "_________________________________________________________________\n",
            "max_pooling2d_6 (MaxPooling2 (None, 16, 16, 256)       0         \n",
            "_________________________________________________________________\n",
            "conv2d_7 (Conv2D)            (None, 16, 16, 256)       590080    \n",
            "_________________________________________________________________\n",
            "max_pooling2d_7 (MaxPooling2 (None, 8, 8, 256)         0         \n",
            "_________________________________________________________________\n",
            "conv2d_8 (Conv2D)            (None, 8, 8, 256)         590080    \n",
            "_________________________________________________________________\n",
            "max_pooling2d_8 (MaxPooling2 (None, 4, 4, 256)         0         \n",
            "_________________________________________________________________\n",
            "flatten_2 (Flatten)          (None, 4096)              0         \n",
            "_________________________________________________________________\n",
            "dense_4 (Dense)              (None, 1024)              4195328   \n",
            "_________________________________________________________________\n",
            "dense_5 (Dense)              (None, 10)                10250     \n",
            "=================================================================\n",
            "Total params: 5,392,906\n",
            "Trainable params: 5,392,906\n",
            "Non-trainable params: 0\n",
            "_________________________________________________________________\n",
            "Epoch 1/15\n",
            "1250/1250 [==============================] - 14s 11ms/step - loss: 1.8900 - accuracy: 0.3492 - val_loss: 1.0852 - val_accuracy: 0.6188\n",
            "Epoch 2/15\n",
            "1250/1250 [==============================] - 14s 11ms/step - loss: 1.0440 - accuracy: 0.6390 - val_loss: 0.9785 - val_accuracy: 0.6770\n",
            "Epoch 3/15\n",
            "1250/1250 [==============================] - 14s 11ms/step - loss: 0.8286 - accuracy: 0.7137 - val_loss: 0.9225 - val_accuracy: 0.6975\n",
            "Epoch 4/15\n",
            "1250/1250 [==============================] - 14s 11ms/step - loss: 0.7512 - accuracy: 0.7477 - val_loss: 0.9167 - val_accuracy: 0.7108\n",
            "Epoch 5/15\n",
            "1250/1250 [==============================] - 14s 11ms/step - loss: 0.6862 - accuracy: 0.7722 - val_loss: 0.9225 - val_accuracy: 0.7189\n",
            "Epoch 6/15\n",
            "1250/1250 [==============================] - 14s 11ms/step - loss: 0.6663 - accuracy: 0.7796 - val_loss: 0.8917 - val_accuracy: 0.7102\n",
            "Epoch 7/15\n",
            "1250/1250 [==============================] - 14s 11ms/step - loss: 0.6350 - accuracy: 0.7894 - val_loss: 1.0104 - val_accuracy: 0.7165\n",
            "Epoch 8/15\n",
            "1250/1250 [==============================] - 14s 11ms/step - loss: 0.6175 - accuracy: 0.8009 - val_loss: 1.1328 - val_accuracy: 0.7258\n",
            "Epoch 9/15\n",
            "1250/1250 [==============================] - 14s 11ms/step - loss: 0.6078 - accuracy: 0.8053 - val_loss: 1.1103 - val_accuracy: 0.6928\n",
            "Epoch 10/15\n",
            "1250/1250 [==============================] - 14s 11ms/step - loss: 0.5985 - accuracy: 0.8120 - val_loss: 1.3825 - val_accuracy: 0.6957\n",
            "Epoch 11/15\n",
            "1250/1250 [==============================] - 14s 11ms/step - loss: 0.5781 - accuracy: 0.8142 - val_loss: 1.3309 - val_accuracy: 0.7062\n",
            "Epoch 12/15\n",
            "1250/1250 [==============================] - 14s 11ms/step - loss: 0.5781 - accuracy: 0.8206 - val_loss: 1.4890 - val_accuracy: 0.7092\n",
            "Epoch 13/15\n",
            "1250/1250 [==============================] - 14s 11ms/step - loss: 0.5931 - accuracy: 0.8145 - val_loss: 1.0729 - val_accuracy: 0.7062\n",
            "Epoch 14/15\n",
            "1250/1250 [==============================] - 14s 11ms/step - loss: 0.5651 - accuracy: 0.8249 - val_loss: 1.4918 - val_accuracy: 0.7271\n",
            "Epoch 15/15\n",
            "1250/1250 [==============================] - 14s 11ms/step - loss: 0.5627 - accuracy: 0.8260 - val_loss: 1.1570 - val_accuracy: 0.7069\n"
          ],
          "name": "stdout"
        }
      ]
    },
    {
      "cell_type": "code",
      "metadata": {
        "id": "xHWhlGUYZ68s",
        "colab": {
          "base_uri": "https://localhost:8080/"
        },
        "outputId": "8f805d36-707e-46bc-86cd-70b501280db7"
      },
      "source": [
        "# TODO - Training model with Adam\n",
        "def define_base_model():\n",
        "\tmodel = Sequential()\n",
        " \n",
        "\tmodel.add(Conv2D(256, (3, 3), activation='relu',  padding='same', input_shape=(32, 32, 3)))\n",
        "\tmodel.add(MaxPooling2D((2, 2)))\n",
        " \n",
        "\tmodel.add(Conv2D(256, (3, 3), activation='relu',  padding='same'))\n",
        "\tmodel.add(MaxPooling2D((2, 2)))\n",
        " \n",
        "\tmodel.add(Conv2D(256, (3, 3), activation='relu',  padding='same'))\n",
        "\tmodel.add(MaxPooling2D((2, 2)))\n",
        " \n",
        "\tmodel.add(Flatten())\n",
        "\tmodel.add(Dense(1024, activation='relu'))\n",
        "\tmodel.add(Dense(10, activation='softmax'))\n",
        " \n",
        "\treturn model\n",
        "\n",
        "\n",
        "base_model = define_base_model()\n",
        "base_model.summary()\n",
        "base_model.compile(optimizer=Adam(), loss='categorical_crossentropy', metrics=['accuracy'])\n",
        "base_history = base_model.fit(trainX, trainY, epochs=15, validation_data=(validX, validY), verbose=1)"
      ],
      "execution_count": null,
      "outputs": [
        {
          "output_type": "stream",
          "text": [
            "Model: \"sequential_3\"\n",
            "_________________________________________________________________\n",
            "Layer (type)                 Output Shape              Param #   \n",
            "=================================================================\n",
            "conv2d_9 (Conv2D)            (None, 32, 32, 256)       7168      \n",
            "_________________________________________________________________\n",
            "max_pooling2d_9 (MaxPooling2 (None, 16, 16, 256)       0         \n",
            "_________________________________________________________________\n",
            "conv2d_10 (Conv2D)           (None, 16, 16, 256)       590080    \n",
            "_________________________________________________________________\n",
            "max_pooling2d_10 (MaxPooling (None, 8, 8, 256)         0         \n",
            "_________________________________________________________________\n",
            "conv2d_11 (Conv2D)           (None, 8, 8, 256)         590080    \n",
            "_________________________________________________________________\n",
            "max_pooling2d_11 (MaxPooling (None, 4, 4, 256)         0         \n",
            "_________________________________________________________________\n",
            "flatten_3 (Flatten)          (None, 4096)              0         \n",
            "_________________________________________________________________\n",
            "dense_6 (Dense)              (None, 1024)              4195328   \n",
            "_________________________________________________________________\n",
            "dense_7 (Dense)              (None, 10)                10250     \n",
            "=================================================================\n",
            "Total params: 5,392,906\n",
            "Trainable params: 5,392,906\n",
            "Non-trainable params: 0\n",
            "_________________________________________________________________\n",
            "Epoch 1/15\n",
            "1250/1250 [==============================] - 13s 10ms/step - loss: 1.7541 - accuracy: 0.3468 - val_loss: 1.1463 - val_accuracy: 0.5914\n",
            "Epoch 2/15\n",
            "1250/1250 [==============================] - 12s 10ms/step - loss: 1.0186 - accuracy: 0.6376 - val_loss: 0.9590 - val_accuracy: 0.6622\n",
            "Epoch 3/15\n",
            "1250/1250 [==============================] - 12s 10ms/step - loss: 0.7925 - accuracy: 0.7166 - val_loss: 0.8533 - val_accuracy: 0.7117\n",
            "Epoch 4/15\n",
            "1250/1250 [==============================] - 12s 10ms/step - loss: 0.6123 - accuracy: 0.7802 - val_loss: 0.8778 - val_accuracy: 0.7083\n",
            "Epoch 5/15\n",
            "1250/1250 [==============================] - 12s 10ms/step - loss: 0.4792 - accuracy: 0.8326 - val_loss: 0.8763 - val_accuracy: 0.7203\n",
            "Epoch 6/15\n",
            "1250/1250 [==============================] - 12s 10ms/step - loss: 0.3438 - accuracy: 0.8788 - val_loss: 0.9136 - val_accuracy: 0.7264\n",
            "Epoch 7/15\n",
            "1250/1250 [==============================] - 12s 10ms/step - loss: 0.2431 - accuracy: 0.9146 - val_loss: 1.0174 - val_accuracy: 0.7323\n",
            "Epoch 8/15\n",
            "1250/1250 [==============================] - 12s 10ms/step - loss: 0.1714 - accuracy: 0.9428 - val_loss: 1.1618 - val_accuracy: 0.7262\n",
            "Epoch 9/15\n",
            "1250/1250 [==============================] - 12s 10ms/step - loss: 0.1351 - accuracy: 0.9555 - val_loss: 1.2847 - val_accuracy: 0.7261\n",
            "Epoch 10/15\n",
            "1250/1250 [==============================] - 12s 10ms/step - loss: 0.1010 - accuracy: 0.9666 - val_loss: 1.3710 - val_accuracy: 0.7276\n",
            "Epoch 11/15\n",
            "1250/1250 [==============================] - 12s 10ms/step - loss: 0.0967 - accuracy: 0.9672 - val_loss: 1.5746 - val_accuracy: 0.7148\n",
            "Epoch 12/15\n",
            "1250/1250 [==============================] - 12s 10ms/step - loss: 0.0925 - accuracy: 0.9705 - val_loss: 1.6394 - val_accuracy: 0.7270\n",
            "Epoch 13/15\n",
            "1250/1250 [==============================] - 12s 10ms/step - loss: 0.0943 - accuracy: 0.9689 - val_loss: 1.8319 - val_accuracy: 0.7115\n",
            "Epoch 14/15\n",
            "1250/1250 [==============================] - 12s 9ms/step - loss: 0.0804 - accuracy: 0.9744 - val_loss: 1.7162 - val_accuracy: 0.7227\n",
            "Epoch 15/15\n",
            "1250/1250 [==============================] - 12s 10ms/step - loss: 0.0748 - accuracy: 0.9753 - val_loss: 1.8175 - val_accuracy: 0.7161\n"
          ],
          "name": "stdout"
        }
      ]
    },
    {
      "cell_type": "code",
      "metadata": {
        "id": "hRXknd9oTt4o",
        "colab": {
          "base_uri": "https://localhost:8080/",
          "height": 573
        },
        "outputId": "9cac05fe-afdc-4e33-a62a-b37f065c15db"
      },
      "source": [
        "# TODO - Plotting training accuracy\n",
        "\n",
        "def plot_history(history):\n",
        "\t  # plot loss\n",
        "    plt.title('Loss')\n",
        "    plt.plot(history.history['loss'], color='blue', label='train')\n",
        "    plt.plot(history.history['val_loss'], color='red', label='test')\n",
        "    plt.ylabel('Loss')\n",
        "    plt.xlabel('Epoch')\n",
        "    plt.legend(['Train', 'Validation'])\n",
        "    plt.show()\n",
        "    \n",
        "    # plot accuracy\n",
        "    plt.title('Accuracy')\n",
        "    plt.plot(history.history['accuracy'], color='blue', label='train')\n",
        "    plt.plot(history.history['val_accuracy'], color='red', label='test')\n",
        "    plt.ylabel('Accuracy')\n",
        "    plt.xlabel('Epoch')\n",
        "    plt.legend(['Train', 'Validation'])\n",
        "    plt.show()\n",
        "  \n",
        "plot_history(base_history)"
      ],
      "execution_count": null,
      "outputs": [
        {
          "output_type": "display_data",
          "data": {
            "image/png": "[encoded data removed]",
            "text/plain": [
              "<Figure size 432x288 with 1 Axes>"
            ]
          },
          "metadata": {
            "tags": [],
            "needs_background": "light"
          }
        },
        {
          "output_type": "display_data",
          "data": {
            "image/png": "[encoded data removed]",
            "text/plain": [
              "<Figure size 432x288 with 1 Axes>"
            ]
          },
          "metadata": {
            "tags": [],
            "needs_background": "light"
          }
        }
      ]
    },
    {
      "cell_type": "markdown",
      "metadata": {
        "id": "8vBjDkEFZSyH"
      },
      "source": [
        "[TODO - Add your observations]\n",
        "\n"
      ]
    },
    {
      "cell_type": "markdown",
      "metadata": {
        "id": "7JSTT5hZk4pX"
      },
      "source": [
        "# **[Task 2] Applying Standard Regularization**\n",
        "\n",
        "The goal of this section is to compare the effect of different normalization approaches including Batch normalization and Dropout. Make sure to complete the following steps:\n",
        "\n",
        "1. Create a new model by adding a batch normalization layer after each convolutional layer and between the dense layers of the base model. Train it using the Adam optimizer.\n",
        "2. Create a new model by adding dropout after each convolutional layer and between the dense layers of the base model with a rate equal to $0.2$. Train it using the Adam optimizer.\n",
        "3. Create two plots showing accuracy for the training and validation sets comparing the regularized versions against the base model trained with the Adam optimizer.\n",
        "4. Comment on the performance of each model. Which one had the steepest learning curve? Which one gave the final best performance? \n",
        "\n",
        "\n"
      ]
    },
    {
      "cell_type": "code",
      "metadata": {
        "id": "dkfTDI205hGq",
        "colab": {
          "base_uri": "https://localhost:8080/"
        },
        "outputId": "5908a13f-e594-4981-b559-fca213372fa5"
      },
      "source": [
        "# TODO - Defining Batch Normalization model and training it\n",
        "def define_adam_model():\n",
        "  model = Sequential()\n",
        "\n",
        "  model.add(Conv2D(256, (3, 3), activation='relu',  padding='same', input_shape=(32, 32, 3)))\n",
        "  model.add(BatchNormalization())\n",
        "  model.add(MaxPooling2D((2, 2)))\n",
        "\n",
        "  model.add(Conv2D(256, (3, 3), activation='relu',  padding='same'))\n",
        "  model.add(BatchNormalization())\n",
        "  model.add(MaxPooling2D((2, 2)))\n",
        "\n",
        "  model.add(Conv2D(256, (3, 3), activation='relu',  padding='same'))\n",
        "  model.add(BatchNormalization())\n",
        "  model.add(MaxPooling2D((2, 2)))\n",
        "\n",
        "  model.add(Flatten())\n",
        "  model.add(Dense(1024, activation='relu'))\n",
        "  model.add(Dense(10, activation='softmax'))\n",
        " \n",
        "  return model\n",
        "\n",
        "base_model = define_adam_model()\n",
        "base_model.summary()\n",
        "base_model.compile(optimizer=Adam(), loss='categorical_crossentropy', metrics=['accuracy'])\n",
        "base_history = base_model.fit(trainX, trainY, epochs=15, validation_data=(validX, validY), verbose=1)\n"
      ],
      "execution_count": null,
      "outputs": [
        {
          "output_type": "stream",
          "text": [
            "Model: \"sequential_4\"\n",
            "_________________________________________________________________\n",
            "Layer (type)                 Output Shape              Param #   \n",
            "=================================================================\n",
            "conv2d_12 (Conv2D)           (None, 32, 32, 256)       7168      \n",
            "_________________________________________________________________\n",
            "batch_normalization (BatchNo (None, 32, 32, 256)       1024      \n",
            "_________________________________________________________________\n",
            "max_pooling2d_12 (MaxPooling (None, 16, 16, 256)       0         \n",
            "_________________________________________________________________\n",
            "conv2d_13 (Conv2D)           (None, 16, 16, 256)       590080    \n",
            "_________________________________________________________________\n",
            "batch_normalization_1 (Batch (None, 16, 16, 256)       1024      \n",
            "_________________________________________________________________\n",
            "max_pooling2d_13 (MaxPooling (None, 8, 8, 256)         0         \n",
            "_________________________________________________________________\n",
            "conv2d_14 (Conv2D)           (None, 8, 8, 256)         590080    \n",
            "_________________________________________________________________\n",
            "batch_normalization_2 (Batch (None, 8, 8, 256)         1024      \n",
            "_________________________________________________________________\n",
            "max_pooling2d_14 (MaxPooling (None, 4, 4, 256)         0         \n",
            "_________________________________________________________________\n",
            "flatten_4 (Flatten)          (None, 4096)              0         \n",
            "_________________________________________________________________\n",
            "dense_8 (Dense)              (None, 1024)              4195328   \n",
            "_________________________________________________________________\n",
            "dense_9 (Dense)              (None, 10)                10250     \n",
            "=================================================================\n",
            "Total params: 5,395,978\n",
            "Trainable params: 5,394,442\n",
            "Non-trainable params: 1,536\n",
            "_________________________________________________________________\n",
            "Epoch 1/15\n",
            "1250/1250 [==============================] - 15s 12ms/step - loss: 1.9825 - accuracy: 0.4306 - val_loss: 1.1510 - val_accuracy: 0.5853\n",
            "Epoch 2/15\n",
            "1250/1250 [==============================] - 14s 11ms/step - loss: 0.9263 - accuracy: 0.6741 - val_loss: 1.0966 - val_accuracy: 0.6386\n",
            "Epoch 3/15\n",
            "1250/1250 [==============================] - 14s 11ms/step - loss: 0.6769 - accuracy: 0.7644 - val_loss: 1.0807 - val_accuracy: 0.6579\n",
            "Epoch 4/15\n",
            "1250/1250 [==============================] - 14s 11ms/step - loss: 0.4996 - accuracy: 0.8266 - val_loss: 1.2050 - val_accuracy: 0.6487\n",
            "Epoch 5/15\n",
            "1250/1250 [==============================] - 14s 11ms/step - loss: 0.3513 - accuracy: 0.8773 - val_loss: 0.9442 - val_accuracy: 0.7236\n",
            "Epoch 6/15\n",
            "1250/1250 [==============================] - 14s 11ms/step - loss: 0.2367 - accuracy: 0.9190 - val_loss: 1.1893 - val_accuracy: 0.7046\n",
            "Epoch 7/15\n",
            "1250/1250 [==============================] - 14s 11ms/step - loss: 0.1648 - accuracy: 0.9447 - val_loss: 1.0740 - val_accuracy: 0.7421\n",
            "Epoch 8/15\n",
            "1250/1250 [==============================] - 14s 11ms/step - loss: 0.1332 - accuracy: 0.9544 - val_loss: 1.3572 - val_accuracy: 0.6818\n",
            "Epoch 9/15\n",
            "1250/1250 [==============================] - 14s 11ms/step - loss: 0.1198 - accuracy: 0.9604 - val_loss: 1.3254 - val_accuracy: 0.7219\n",
            "Epoch 10/15\n",
            "1250/1250 [==============================] - 14s 11ms/step - loss: 0.0974 - accuracy: 0.9687 - val_loss: 1.2392 - val_accuracy: 0.7563\n",
            "Epoch 11/15\n",
            "1250/1250 [==============================] - 14s 11ms/step - loss: 0.0876 - accuracy: 0.9706 - val_loss: 1.4424 - val_accuracy: 0.7442\n",
            "Epoch 12/15\n",
            "1250/1250 [==============================] - 14s 11ms/step - loss: 0.0918 - accuracy: 0.9714 - val_loss: 2.7369 - val_accuracy: 0.6484\n",
            "Epoch 13/15\n",
            "1250/1250 [==============================] - 14s 11ms/step - loss: 0.0808 - accuracy: 0.9733 - val_loss: 1.5611 - val_accuracy: 0.7280\n",
            "Epoch 14/15\n",
            "1250/1250 [==============================] - 14s 11ms/step - loss: 0.0742 - accuracy: 0.9766 - val_loss: 1.4622 - val_accuracy: 0.7475\n",
            "Epoch 15/15\n",
            "1250/1250 [==============================] - 14s 11ms/step - loss: 0.0627 - accuracy: 0.9796 - val_loss: 1.8611 - val_accuracy: 0.7307\n"
          ],
          "name": "stdout"
        }
      ]
    },
    {
      "cell_type": "code",
      "metadata": {
        "colab": {
          "base_uri": "https://localhost:8080/"
        },
        "id": "ET3XQc9HXiyR",
        "outputId": "86baa114-ea3a-4fa8-99ed-7bd08870a2b6"
      },
      "source": [
        "# TODO - Defining dropout regularized model and training it\r\n",
        "\r\n",
        "# layer = tf.keras.layers.Dropout(.2, input_shape=(2,))\r\n",
        "# outputs = layer(data, training=True)\r\n",
        "# keras.layers.Dropout(rate, noise_shape=None, seed=None)\r\n",
        "from keras.layers import Dropout\r\n",
        "\r\n",
        "def define_adam_model():\r\n",
        "  model = Sequential()\r\n",
        "\r\n",
        "  model.add(Conv2D(256, (3, 3), activation='relu',  padding='same', input_shape=(32, 32, 3)))\r\n",
        "  model.add(Dropout(0.2))\r\n",
        "  model.add(MaxPooling2D((2, 2)))\r\n",
        "\r\n",
        "  model.add(Conv2D(256, (3, 3), activation='relu',  padding='same'))\r\n",
        "  model.add(Dropout(0.2))\r\n",
        "  model.add(MaxPooling2D((2, 2)))\r\n",
        "\r\n",
        "  model.add(Conv2D(256, (3, 3), activation='relu',  padding='same'))\r\n",
        "  model.add(Dropout(0.2))\r\n",
        "  model.add(MaxPooling2D((2, 2)))\r\n",
        "\r\n",
        "  model.add(Flatten())\r\n",
        "  model.add(Dense(1024, activation='relu'))\r\n",
        "  model.add(Dense(10, activation='softmax'))\r\n",
        " \r\n",
        "  return model\r\n",
        "\r\n",
        "base_model = define_adam_model()\r\n",
        "base_model.summary()\r\n",
        "base_model.compile(optimizer=Adam(), loss='categorical_crossentropy', metrics=['accuracy'])\r\n",
        "base_history = base_model.fit(trainX, trainY, epochs=15, validation_data=(validX, validY), verbose=1)"
      ],
      "execution_count": null,
      "outputs": [
        {
          "output_type": "stream",
          "text": [
            "Model: \"sequential_5\"\n",
            "_________________________________________________________________\n",
            "Layer (type)                 Output Shape              Param #   \n",
            "=================================================================\n",
            "conv2d_15 (Conv2D)           (None, 32, 32, 256)       7168      \n",
            "_________________________________________________________________\n",
            "dropout (Dropout)            (None, 32, 32, 256)       0         \n",
            "_________________________________________________________________\n",
            "max_pooling2d_15 (MaxPooling (None, 16, 16, 256)       0         \n",
            "_________________________________________________________________\n",
            "conv2d_16 (Conv2D)           (None, 16, 16, 256)       590080    \n",
            "_________________________________________________________________\n",
            "dropout_1 (Dropout)          (None, 16, 16, 256)       0         \n",
            "_________________________________________________________________\n",
            "max_pooling2d_16 (MaxPooling (None, 8, 8, 256)         0         \n",
            "_________________________________________________________________\n",
            "conv2d_17 (Conv2D)           (None, 8, 8, 256)         590080    \n",
            "_________________________________________________________________\n",
            "dropout_2 (Dropout)          (None, 8, 8, 256)         0         \n",
            "_________________________________________________________________\n",
            "max_pooling2d_17 (MaxPooling (None, 4, 4, 256)         0         \n",
            "_________________________________________________________________\n",
            "flatten_5 (Flatten)          (None, 4096)              0         \n",
            "_________________________________________________________________\n",
            "dense_10 (Dense)             (None, 1024)              4195328   \n",
            "_________________________________________________________________\n",
            "dense_11 (Dense)             (None, 10)                10250     \n",
            "=================================================================\n",
            "Total params: 5,392,906\n",
            "Trainable params: 5,392,906\n",
            "Non-trainable params: 0\n",
            "_________________________________________________________________\n",
            "Epoch 1/15\n",
            "1250/1250 [==============================] - 17s 13ms/step - loss: 1.7200 - accuracy: 0.3679 - val_loss: 1.3062 - val_accuracy: 0.5328\n",
            "Epoch 2/15\n",
            "1250/1250 [==============================] - 16s 13ms/step - loss: 1.0776 - accuracy: 0.6167 - val_loss: 0.9772 - val_accuracy: 0.6810\n",
            "Epoch 3/15\n",
            "1250/1250 [==============================] - 16s 13ms/step - loss: 0.8557 - accuracy: 0.6949 - val_loss: 0.8698 - val_accuracy: 0.7089\n",
            "Epoch 4/15\n",
            "1250/1250 [==============================] - 16s 13ms/step - loss: 0.7153 - accuracy: 0.7472 - val_loss: 0.8589 - val_accuracy: 0.7116\n",
            "Epoch 5/15\n",
            "1250/1250 [==============================] - 16s 13ms/step - loss: 0.5956 - accuracy: 0.7882 - val_loss: 0.8135 - val_accuracy: 0.7148\n",
            "Epoch 6/15\n",
            "1250/1250 [==============================] - 16s 13ms/step - loss: 0.4803 - accuracy: 0.8290 - val_loss: 0.7957 - val_accuracy: 0.7284\n",
            "Epoch 7/15\n",
            "1250/1250 [==============================] - 16s 13ms/step - loss: 0.3909 - accuracy: 0.8628 - val_loss: 0.7512 - val_accuracy: 0.7453\n",
            "Epoch 8/15\n",
            "1250/1250 [==============================] - 16s 13ms/step - loss: 0.3131 - accuracy: 0.8885 - val_loss: 0.8519 - val_accuracy: 0.7291\n",
            "Epoch 9/15\n",
            "1250/1250 [==============================] - 16s 13ms/step - loss: 0.2653 - accuracy: 0.9073 - val_loss: 0.8274 - val_accuracy: 0.7361\n",
            "Epoch 10/15\n",
            "1250/1250 [==============================] - 16s 13ms/step - loss: 0.2352 - accuracy: 0.9159 - val_loss: 0.8470 - val_accuracy: 0.7355\n",
            "Epoch 11/15\n",
            "1250/1250 [==============================] - 16s 13ms/step - loss: 0.1996 - accuracy: 0.9300 - val_loss: 0.8337 - val_accuracy: 0.7464\n",
            "Epoch 12/15\n",
            "1250/1250 [==============================] - 16s 13ms/step - loss: 0.1822 - accuracy: 0.9383 - val_loss: 0.8989 - val_accuracy: 0.7407\n",
            "Epoch 13/15\n",
            "1250/1250 [==============================] - 16s 13ms/step - loss: 0.1660 - accuracy: 0.9418 - val_loss: 0.9861 - val_accuracy: 0.7375\n",
            "Epoch 14/15\n",
            "1250/1250 [==============================] - 16s 13ms/step - loss: 0.1539 - accuracy: 0.9473 - val_loss: 1.0261 - val_accuracy: 0.7329\n",
            "Epoch 15/15\n",
            "1250/1250 [==============================] - 16s 13ms/step - loss: 0.1523 - accuracy: 0.9475 - val_loss: 1.0190 - val_accuracy: 0.7385\n"
          ],
          "name": "stdout"
        }
      ]
    },
    {
      "cell_type": "markdown",
      "metadata": {
        "id": "04NtpB2tfMcG"
      },
      "source": [
        "# TODO - Defining dropout regularized model and training it\n",
        "def create_baseline():\n",
        "\t# create model\n",
        "\tmodel = Sequential()\n",
        "\tmodel.add(Dense(60, input_dim=60, activation='relu'))\n",
        "\tmodel.add(Dense(30,  activation='relu'))\n",
        "\tmodel.add(Dense(1, activation='sigmoid'))\n",
        "\t# Compile model\n",
        "\tsgd = SGD(lr=0.01, momentum=0.8)\n",
        "\tmodel.compile(loss='binary_crossentropy', optimizer=sgd, metrics=['accuracy'])\n",
        "\treturn model\n",
        " \n",
        "estimators = []\n",
        "estimators.append(('standardize', StandardScaler()))\n",
        "estimators.append(('mlp', KerasClassifier(build_fn=create_baseline, epochs=300, batch_size=16, verbose=0)))\n",
        "pipeline = Pipeline(estimators)\n",
        "kfold = StratifiedKFold(n_splits=10, shuffle=True)\n",
        "results = cross_val_score(pipeline, trainX, trainY, cv=kfold)\n",
        "print(\"Baseline: %.2f%% (%.2f%%)\" % (results.mean()*100, results.std()*100))"
      ]
    },
    {
      "cell_type": "code",
      "metadata": {
        "id": "FUduWXzv16rV",
        "colab": {
          "base_uri": "https://localhost:8080/",
          "height": 573
        },
        "outputId": "0f7eac65-af08-4e3d-fc6c-49811a398d79"
      },
      "source": [
        "# TODO - Plotting training accuracy\n",
        "def plot_history(history):\n",
        "\t  # plot loss\n",
        "    plt.title('Loss')\n",
        "    plt.plot(history.history['loss'], color='blue', label='train')\n",
        "    plt.plot(history.history['val_loss'], color='red', label='test')\n",
        "    plt.ylabel('Loss')\n",
        "    plt.xlabel('Epoch')\n",
        "    plt.legend(['Train', 'Validation'])\n",
        "    plt.show()\n",
        "    \n",
        "    # plot accuracy\n",
        "    plt.title('Accuracy')\n",
        "    plt.plot(history.history['accuracy'], color='blue', label='train')\n",
        "    plt.plot(history.history['val_accuracy'], color='red', label='test')\n",
        "    plt.ylabel('Accuracy')\n",
        "    plt.xlabel('Epoch')\n",
        "    plt.legend(['Train', 'Validation'])\n",
        "    plt.show()\n",
        "  \n",
        "plot_history(base_history)"
      ],
      "execution_count": null,
      "outputs": [
        {
          "output_type": "display_data",
          "data": {
            "image/png": "[encoded data removed]",
            "text/plain": [
              "<Figure size 432x288 with 1 Axes>"
            ]
          },
          "metadata": {
            "tags": [],
            "needs_background": "light"
          }
        },
        {
          "output_type": "display_data",
          "data": {
            "image/png": "[encoded data removed]",
            "text/plain": [
              "<Figure size 432x288 with 1 Axes>"
            ]
          },
          "metadata": {
            "tags": [],
            "needs_background": "light"
          }
        }
      ]
    },
    {
      "cell_type": "markdown",
      "metadata": {
        "id": "zFURxqaLf1PQ"
      },
      "source": [
        "[TODO - Add your observations]"
      ]
    },
    {
      "cell_type": "markdown",
      "metadata": {
        "id": "J1REJkBwpEDd"
      },
      "source": [
        "# **[Task 3] Hyperparameter Tuning**\n",
        "\n",
        "The objective of this section is to perform hyperparameter tuning of the network using a grid search. Make sure to complete these steps:\n",
        "\n",
        "1. Perform a grid search for the optimal hyperparameters for the model with dropout regularization and Adam optimizer using the dropout values [0.1, 0.2, 0.3] and the learning rate values [0.1, 0.01, 0.001].\n",
        "2. Display the results for the best model on the test dataset."
      ]
    },
    {
      "cell_type": "code",
      "metadata": {
        "id": "M5HMnq-8D8l_",
        "colab": {
          "base_uri": "https://localhost:8080/"
        },
        "outputId": "f552d5f9-41ef-4589-d82b-29cb37501214"
      },
      "source": [
        "# TODO - Defining final model for optimization\n",
        "from keras.layers import Dropout\n",
        "\n",
        "def define_adam_model():\n",
        "  model = Sequential()\n",
        "\n",
        "  model.add(Conv2D(256, (3, 3), activation='relu',  padding='same', input_shape=(32, 32, 3)))\n",
        "  model.add(Dropout(0.1))\n",
        "  model.add(MaxPooling2D((2, 2)))\n",
        "\n",
        "  model.add(Conv2D(256, (3, 3), activation='relu',  padding='same'))\n",
        "  model.add(Dropout(0.1))\n",
        "  model.add(MaxPooling2D((2, 2)))\n",
        "\n",
        "  model.add(Conv2D(256, (3, 3), activation='relu',  padding='same'))\n",
        "  model.add(Dropout(0.1))\n",
        "  model.add(MaxPooling2D((2, 2)))\n",
        "\n",
        "  model.add(Flatten())\n",
        "  model.add(Dense(1024, activation='relu'))\n",
        "  model.add(Dense(10, activation='softmax'))\n",
        " \n",
        "  return model\n",
        "\n",
        "base_model = define_adam_model()\n",
        "base_model.summary()\n",
        "base_model.compile(optimizer=Adam(learning_rate=0.1), loss='categorical_crossentropy', metrics=['accuracy'])\n",
        "base_history = base_model.fit(trainX, trainY, epochs=15, validation_data=(validX, validY), verbose=1)"
      ],
      "execution_count": null,
      "outputs": [
        {
          "output_type": "stream",
          "text": [
            "Model: \"sequential_6\"\n",
            "_________________________________________________________________\n",
            "Layer (type)                 Output Shape              Param #   \n",
            "=================================================================\n",
            "conv2d_18 (Conv2D)           (None, 32, 32, 256)       7168      \n",
            "_________________________________________________________________\n",
            "dropout_3 (Dropout)          (None, 32, 32, 256)       0         \n",
            "_________________________________________________________________\n",
            "max_pooling2d_18 (MaxPooling (None, 16, 16, 256)       0         \n",
            "_________________________________________________________________\n",
            "conv2d_19 (Conv2D)           (None, 16, 16, 256)       590080    \n",
            "_________________________________________________________________\n",
            "dropout_4 (Dropout)          (None, 16, 16, 256)       0         \n",
            "_________________________________________________________________\n",
            "max_pooling2d_19 (MaxPooling (None, 8, 8, 256)         0         \n",
            "_________________________________________________________________\n",
            "conv2d_20 (Conv2D)           (None, 8, 8, 256)         590080    \n",
            "_________________________________________________________________\n",
            "dropout_5 (Dropout)          (None, 8, 8, 256)         0         \n",
            "_________________________________________________________________\n",
            "max_pooling2d_20 (MaxPooling (None, 4, 4, 256)         0         \n",
            "_________________________________________________________________\n",
            "flatten_6 (Flatten)          (None, 4096)              0         \n",
            "_________________________________________________________________\n",
            "dense_12 (Dense)             (None, 1024)              4195328   \n",
            "_________________________________________________________________\n",
            "dense_13 (Dense)             (None, 10)                10250     \n",
            "=================================================================\n",
            "Total params: 5,392,906\n",
            "Trainable params: 5,392,906\n",
            "Non-trainable params: 0\n",
            "_________________________________________________________________\n",
            "Epoch 1/15\n",
            "1250/1250 [==============================] - 16s 13ms/step - loss: 133161.4149 - accuracy: 0.0997 - val_loss: 2.3093 - val_accuracy: 0.0977\n",
            "Epoch 2/15\n",
            "1250/1250 [==============================] - 16s 13ms/step - loss: 2.3192 - accuracy: 0.0992 - val_loss: 2.3161 - val_accuracy: 0.1005\n",
            "Epoch 3/15\n",
            "1250/1250 [==============================] - 16s 13ms/step - loss: 2.3177 - accuracy: 0.0973 - val_loss: 2.3139 - val_accuracy: 0.1015\n",
            "Epoch 4/15\n",
            "1250/1250 [==============================] - 16s 13ms/step - loss: 2.3153 - accuracy: 0.0995 - val_loss: 2.3068 - val_accuracy: 0.1016\n",
            "Epoch 5/15\n",
            "1250/1250 [==============================] - 16s 13ms/step - loss: 2.3157 - accuracy: 0.0990 - val_loss: 2.3116 - val_accuracy: 0.0954\n",
            "Epoch 6/15\n",
            "1250/1250 [==============================] - 16s 13ms/step - loss: 2.3858 - accuracy: 0.0982 - val_loss: 2.3161 - val_accuracy: 0.1014\n",
            "Epoch 7/15\n",
            "1250/1250 [==============================] - 16s 13ms/step - loss: 2.3171 - accuracy: 0.0980 - val_loss: 2.3142 - val_accuracy: 0.1016\n",
            "Epoch 8/15\n",
            "1250/1250 [==============================] - 16s 13ms/step - loss: 2.3162 - accuracy: 0.0972 - val_loss: 2.3093 - val_accuracy: 0.1014\n",
            "Epoch 9/15\n",
            "1250/1250 [==============================] - 16s 13ms/step - loss: 2.3161 - accuracy: 0.1011 - val_loss: 2.3136 - val_accuracy: 0.0952\n",
            "Epoch 10/15\n",
            "1250/1250 [==============================] - 16s 13ms/step - loss: 2.3151 - accuracy: 0.0999 - val_loss: 2.3137 - val_accuracy: 0.1014\n",
            "Epoch 11/15\n",
            "1250/1250 [==============================] - 16s 13ms/step - loss: 2.3144 - accuracy: 0.1024 - val_loss: 2.3138 - val_accuracy: 0.1014\n",
            "Epoch 12/15\n",
            "1250/1250 [==============================] - 16s 13ms/step - loss: 2.3162 - accuracy: 0.0979 - val_loss: 2.3098 - val_accuracy: 0.0952\n",
            "Epoch 13/15\n",
            "1250/1250 [==============================] - 16s 13ms/step - loss: 2.3145 - accuracy: 0.0963 - val_loss: 2.3184 - val_accuracy: 0.1025\n",
            "Epoch 14/15\n",
            "1250/1250 [==============================] - 16s 13ms/step - loss: 2.3148 - accuracy: 0.1006 - val_loss: 2.3192 - val_accuracy: 0.0977\n",
            "Epoch 15/15\n",
            "1250/1250 [==============================] - 16s 13ms/step - loss: 2.3154 - accuracy: 0.1007 - val_loss: 2.3145 - val_accuracy: 0.0952\n"
          ],
          "name": "stdout"
        }
      ]
    },
    {
      "cell_type": "code",
      "metadata": {
        "colab": {
          "base_uri": "https://localhost:8080/"
        },
        "id": "KTj6wVnRGXuK",
        "outputId": "0c73eeaa-849c-4a87-aca6-2987991ae37f"
      },
      "source": [
        "from keras.layers import Dropout\r\n",
        "\r\n",
        "def define_adam_model():\r\n",
        "  model = Sequential()\r\n",
        "\r\n",
        "  model.add(Conv2D(256, (3, 3), activation='relu',  padding='same', input_shape=(32, 32, 3)))\r\n",
        "  model.add(Dropout(0.2))\r\n",
        "  model.add(MaxPooling2D((2, 2)))\r\n",
        "\r\n",
        "  model.add(Conv2D(256, (3, 3), activation='relu',  padding='same'))\r\n",
        "  model.add(Dropout(0.2))\r\n",
        "  model.add(MaxPooling2D((2, 2)))\r\n",
        "\r\n",
        "  model.add(Conv2D(256, (3, 3), activation='relu',  padding='same'))\r\n",
        "  model.add(Dropout(0.2))\r\n",
        "  model.add(MaxPooling2D((2, 2)))\r\n",
        "\r\n",
        "  model.add(Flatten())\r\n",
        "  model.add(Dense(1024, activation='relu'))\r\n",
        "  model.add(Dense(10, activation='softmax'))\r\n",
        " \r\n",
        "  return model\r\n",
        "\r\n",
        "base_model = define_adam_model()\r\n",
        "base_model.summary()\r\n",
        "base_model.compile(optimizer=Adam(learning_rate=0.01), loss='categorical_crossentropy', metrics=['accuracy'])\r\n",
        "base_history = base_model.fit(trainX, trainY, epochs=15, validation_data=(validX, validY), verbose=1)"
      ],
      "execution_count": null,
      "outputs": [
        {
          "output_type": "stream",
          "text": [
            "Model: \"sequential_7\"\n",
            "_________________________________________________________________\n",
            "Layer (type)                 Output Shape              Param #   \n",
            "=================================================================\n",
            "conv2d_21 (Conv2D)           (None, 32, 32, 256)       7168      \n",
            "_________________________________________________________________\n",
            "dropout_6 (Dropout)          (None, 32, 32, 256)       0         \n",
            "_________________________________________________________________\n",
            "max_pooling2d_21 (MaxPooling (None, 16, 16, 256)       0         \n",
            "_________________________________________________________________\n",
            "conv2d_22 (Conv2D)           (None, 16, 16, 256)       590080    \n",
            "_________________________________________________________________\n",
            "dropout_7 (Dropout)          (None, 16, 16, 256)       0         \n",
            "_________________________________________________________________\n",
            "max_pooling2d_22 (MaxPooling (None, 8, 8, 256)         0         \n",
            "_________________________________________________________________\n",
            "conv2d_23 (Conv2D)           (None, 8, 8, 256)         590080    \n",
            "_________________________________________________________________\n",
            "dropout_8 (Dropout)          (None, 8, 8, 256)         0         \n",
            "_________________________________________________________________\n",
            "max_pooling2d_23 (MaxPooling (None, 4, 4, 256)         0         \n",
            "_________________________________________________________________\n",
            "flatten_7 (Flatten)          (None, 4096)              0         \n",
            "_________________________________________________________________\n",
            "dense_14 (Dense)             (None, 1024)              4195328   \n",
            "_________________________________________________________________\n",
            "dense_15 (Dense)             (None, 10)                10250     \n",
            "=================================================================\n",
            "Total params: 5,392,906\n",
            "Trainable params: 5,392,906\n",
            "Non-trainable params: 0\n",
            "_________________________________________________________________\n",
            "Epoch 1/15\n",
            "1250/1250 [==============================] - 16s 13ms/step - loss: 4.6213 - accuracy: 0.1046 - val_loss: 2.3042 - val_accuracy: 0.0980\n",
            "Epoch 2/15\n",
            "1250/1250 [==============================] - 16s 13ms/step - loss: 2.3037 - accuracy: 0.1027 - val_loss: 2.3036 - val_accuracy: 0.1025\n",
            "Epoch 3/15\n",
            "1250/1250 [==============================] - 16s 13ms/step - loss: 2.3042 - accuracy: 0.0981 - val_loss: 2.3047 - val_accuracy: 0.1025\n",
            "Epoch 4/15\n",
            "1250/1250 [==============================] - 16s 13ms/step - loss: 2.3041 - accuracy: 0.1011 - val_loss: 2.3050 - val_accuracy: 0.1016\n",
            "Epoch 5/15\n",
            "1250/1250 [==============================] - 16s 13ms/step - loss: 2.3038 - accuracy: 0.1005 - val_loss: 2.3038 - val_accuracy: 0.1025\n",
            "Epoch 6/15\n",
            "1250/1250 [==============================] - 16s 13ms/step - loss: 2.3046 - accuracy: 0.0952 - val_loss: 2.3049 - val_accuracy: 0.0977\n",
            "Epoch 7/15\n",
            "1250/1250 [==============================] - 16s 13ms/step - loss: 2.3039 - accuracy: 0.1024 - val_loss: 2.3042 - val_accuracy: 0.1025\n",
            "Epoch 8/15\n",
            "1250/1250 [==============================] - 16s 13ms/step - loss: 2.3041 - accuracy: 0.0995 - val_loss: 2.3037 - val_accuracy: 0.0952\n",
            "Epoch 9/15\n",
            "1250/1250 [==============================] - 16s 13ms/step - loss: 2.3037 - accuracy: 0.0991 - val_loss: 2.3033 - val_accuracy: 0.1014\n",
            "Epoch 10/15\n",
            "1250/1250 [==============================] - 16s 13ms/step - loss: 2.3041 - accuracy: 0.0998 - val_loss: 2.3032 - val_accuracy: 0.1014\n",
            "Epoch 11/15\n",
            "1250/1250 [==============================] - 16s 13ms/step - loss: 2.3115 - accuracy: 0.0989 - val_loss: 2.3031 - val_accuracy: 0.1014\n",
            "Epoch 12/15\n",
            "1250/1250 [==============================] - 16s 13ms/step - loss: 2.3039 - accuracy: 0.1005 - val_loss: 2.3045 - val_accuracy: 0.0997\n",
            "Epoch 13/15\n",
            "1250/1250 [==============================] - 16s 13ms/step - loss: 2.3035 - accuracy: 0.0991 - val_loss: 2.3053 - val_accuracy: 0.0997\n",
            "Epoch 14/15\n",
            "1250/1250 [==============================] - 16s 13ms/step - loss: 2.3040 - accuracy: 0.1030 - val_loss: 2.3035 - val_accuracy: 0.1022\n",
            "Epoch 15/15\n",
            "1250/1250 [==============================] - 16s 13ms/step - loss: 2.3042 - accuracy: 0.0957 - val_loss: 2.3040 - val_accuracy: 0.0980\n"
          ],
          "name": "stdout"
        }
      ]
    },
    {
      "cell_type": "code",
      "metadata": {
        "colab": {
          "base_uri": "https://localhost:8080/"
        },
        "id": "zTrOtSOaJuLe",
        "outputId": "2c576507-4ce6-40f6-9305-9d7be4b67555"
      },
      "source": [
        "from keras.layers import Dropout\r\n",
        "\r\n",
        "def define_adam_model():\r\n",
        "  model = Sequential()\r\n",
        "\r\n",
        "  model.add(Conv2D(256, (3, 3), activation='relu',  padding='same', input_shape=(32, 32, 3)))\r\n",
        "  model.add(Dropout(0.3))\r\n",
        "  model.add(MaxPooling2D((2, 2)))\r\n",
        "\r\n",
        "  model.add(Conv2D(256, (3, 3), activation='relu',  padding='same'))\r\n",
        "  model.add(Dropout(0.3))\r\n",
        "  model.add(MaxPooling2D((2, 2)))\r\n",
        "\r\n",
        "  model.add(Conv2D(256, (3, 3), activation='relu',  padding='same'))\r\n",
        "  model.add(Dropout(0.3))\r\n",
        "  model.add(MaxPooling2D((2, 2)))\r\n",
        "\r\n",
        "  model.add(Flatten())\r\n",
        "  model.add(Dense(1024, activation='relu'))\r\n",
        "  model.add(Dense(10, activation='softmax'))\r\n",
        " \r\n",
        "  return model\r\n",
        "\r\n",
        "base_model = define_adam_model()\r\n",
        "base_model.summary()\r\n",
        "base_model.compile(optimizer=Adam(learning_rate=0.001), loss='categorical_crossentropy', metrics=['accuracy'])\r\n",
        "base_history = base_model.fit(trainX, trainY, epochs=15, validation_data=(validX, validY), verbose=1)"
      ],
      "execution_count": null,
      "outputs": [
        {
          "output_type": "stream",
          "text": [
            "Model: \"sequential_8\"\n",
            "_________________________________________________________________\n",
            "Layer (type)                 Output Shape              Param #   \n",
            "=================================================================\n",
            "conv2d_24 (Conv2D)           (None, 32, 32, 256)       7168      \n",
            "_________________________________________________________________\n",
            "dropout_9 (Dropout)          (None, 32, 32, 256)       0         \n",
            "_________________________________________________________________\n",
            "max_pooling2d_24 (MaxPooling (None, 16, 16, 256)       0         \n",
            "_________________________________________________________________\n",
            "conv2d_25 (Conv2D)           (None, 16, 16, 256)       590080    \n",
            "_________________________________________________________________\n",
            "dropout_10 (Dropout)         (None, 16, 16, 256)       0         \n",
            "_________________________________________________________________\n",
            "max_pooling2d_25 (MaxPooling (None, 8, 8, 256)         0         \n",
            "_________________________________________________________________\n",
            "conv2d_26 (Conv2D)           (None, 8, 8, 256)         590080    \n",
            "_________________________________________________________________\n",
            "dropout_11 (Dropout)         (None, 8, 8, 256)         0         \n",
            "_________________________________________________________________\n",
            "max_pooling2d_26 (MaxPooling (None, 4, 4, 256)         0         \n",
            "_________________________________________________________________\n",
            "flatten_8 (Flatten)          (None, 4096)              0         \n",
            "_________________________________________________________________\n",
            "dense_16 (Dense)             (None, 1024)              4195328   \n",
            "_________________________________________________________________\n",
            "dense_17 (Dense)             (None, 10)                10250     \n",
            "=================================================================\n",
            "Total params: 5,392,906\n",
            "Trainable params: 5,392,906\n",
            "Non-trainable params: 0\n",
            "_________________________________________________________________\n",
            "Epoch 1/15\n",
            "1250/1250 [==============================] - 17s 13ms/step - loss: 1.7188 - accuracy: 0.3685 - val_loss: 1.3480 - val_accuracy: 0.5445\n",
            "Epoch 2/15\n",
            "1250/1250 [==============================] - 16s 13ms/step - loss: 1.0899 - accuracy: 0.6114 - val_loss: 1.0300 - val_accuracy: 0.6542\n",
            "Epoch 3/15\n",
            "1250/1250 [==============================] - 16s 13ms/step - loss: 0.8984 - accuracy: 0.6828 - val_loss: 0.9801 - val_accuracy: 0.6655\n",
            "Epoch 4/15\n",
            "1250/1250 [==============================] - 16s 13ms/step - loss: 0.7570 - accuracy: 0.7358 - val_loss: 0.9514 - val_accuracy: 0.6777\n",
            "Epoch 5/15\n",
            "1250/1250 [==============================] - 16s 13ms/step - loss: 0.6560 - accuracy: 0.7679 - val_loss: 0.8477 - val_accuracy: 0.7242\n",
            "Epoch 6/15\n",
            "1250/1250 [==============================] - 16s 13ms/step - loss: 0.5462 - accuracy: 0.8082 - val_loss: 0.7997 - val_accuracy: 0.7382\n",
            "Epoch 7/15\n",
            "1250/1250 [==============================] - 16s 13ms/step - loss: 0.4731 - accuracy: 0.8338 - val_loss: 0.7716 - val_accuracy: 0.7340\n",
            "Epoch 8/15\n",
            "1250/1250 [==============================] - 16s 13ms/step - loss: 0.4113 - accuracy: 0.8535 - val_loss: 0.8366 - val_accuracy: 0.7082\n",
            "Epoch 9/15\n",
            "1250/1250 [==============================] - 16s 13ms/step - loss: 0.3486 - accuracy: 0.8765 - val_loss: 0.7802 - val_accuracy: 0.7294\n",
            "Epoch 10/15\n",
            "1250/1250 [==============================] - 16s 13ms/step - loss: 0.3024 - accuracy: 0.8928 - val_loss: 0.7855 - val_accuracy: 0.7307\n",
            "Epoch 11/15\n",
            "1250/1250 [==============================] - 16s 13ms/step - loss: 0.2701 - accuracy: 0.9049 - val_loss: 0.7703 - val_accuracy: 0.7386\n",
            "Epoch 12/15\n",
            "1250/1250 [==============================] - 16s 13ms/step - loss: 0.2508 - accuracy: 0.9125 - val_loss: 0.8106 - val_accuracy: 0.7259\n",
            "Epoch 13/15\n",
            "1250/1250 [==============================] - 16s 13ms/step - loss: 0.2265 - accuracy: 0.9203 - val_loss: 0.8552 - val_accuracy: 0.7187\n",
            "Epoch 14/15\n",
            "1250/1250 [==============================] - 16s 13ms/step - loss: 0.2208 - accuracy: 0.9236 - val_loss: 0.8687 - val_accuracy: 0.7176\n",
            "Epoch 15/15\n",
            "1250/1250 [==============================] - 16s 13ms/step - loss: 0.1879 - accuracy: 0.9344 - val_loss: 0.8682 - val_accuracy: 0.7276\n"
          ],
          "name": "stdout"
        }
      ]
    },
    {
      "cell_type": "code",
      "metadata": {
        "id": "EGltGG4Ayj17",
        "colab": {
          "base_uri": "https://localhost:8080/",
          "height": 573
        },
        "outputId": "9b9d2dc3-5020-4d66-95b2-e33216ff71df"
      },
      "source": [
        "# TODO - Displaying best parameters found\n",
        "def plot_history(history):\n",
        "\t  # plot loss\n",
        "    plt.title('Loss')\n",
        "    plt.plot(history.history['loss'], color='blue', label='train')\n",
        "    plt.plot(history.history['val_loss'], color='red', label='test')\n",
        "    plt.ylabel('Loss')\n",
        "    plt.xlabel('Epoch')\n",
        "    plt.legend(['Train', 'Validation'])\n",
        "    plt.show()\n",
        "    \n",
        "    # plot accuracy\n",
        "    plt.title('Accuracy')\n",
        "    plt.plot(history.history['accuracy'], color='blue', label='train')\n",
        "    plt.plot(history.history['val_accuracy'], color='red', label='test')\n",
        "    plt.ylabel('Accuracy')\n",
        "    plt.xlabel('Epoch')\n",
        "    plt.legend(['Train', 'Validation'])\n",
        "    plt.show()\n",
        "  \n",
        "plot_history(base_history)"
      ],
      "execution_count": null,
      "outputs": [
        {
          "output_type": "display_data",
          "data": {
            "image/png": "[encoded data removed]",
            "text/plain": [
              "<Figure size 432x288 with 1 Axes>"
            ]
          },
          "metadata": {
            "tags": [],
            "needs_background": "light"
          }
        },
        {
          "output_type": "display_data",
          "data": {
            "image/png": "[encoded data removed]",
            "text/plain": [
              "<Figure size 432x288 with 1 Axes>"
            ]
          },
          "metadata": {
            "tags": [],
            "needs_background": "light"
          }
        }
      ]
    }
  ]
}