{
  "nbformat": 4,
  "nbformat_minor": 0,
  "metadata": {
    "colab": {
      "name": "1. Naive Bayes Classification.ipynb",
      "provenance": [],
      "authorship_tag": "ABX9TyNUMJdMZJafWft3DkBbnFtE",
      "include_colab_link": true
    },
    "kernelspec": {
      "name": "python3",
      "display_name": "Python 3"
    }
  },
  "cells": [
    {
      "cell_type": "markdown",
      "metadata": {
        "id": "view-in-github",
        "colab_type": "text"
      },
      "source": [
        "<a href=\"https://colab.research.google.com/github/kimys0279/NCSU/blob/main/ML/1_Naive_Bayes_Classification.ipynb\" target=\"_parent\"><img src=\"https://colab.research.google.com/assets/colab-badge.svg\" alt=\"Open In Colab\"/></a>"
      ]
    },
    {
      "cell_type": "code",
      "metadata": {
        "id": "7kjzYwN-oPyx"
      },
      "source": [
        "weather = ['Sunny','Sunny','Sunny','Overcast','Rainy','Rainy','Rainy','Overcast','Sunny','Sunny',\r\n",
        "'Rainy','Sunny','Overcast','Overcast','Rainy']\r\n",
        "temp = ['Hot','Hot','Hot','Mild','Cool','Cool','Cool','Mild','Cool','Mild','Mild','Mild','Hot','Mild']\r\n",
        "play = ['No','No','Yes','Yes','Yes','No','Yes','No','Yes','Yes','Yes','Yes','Yes','No']"
      ],
      "execution_count": 3,
      "outputs": []
    },
    {
      "cell_type": "code",
      "metadata": {
        "colab": {
          "base_uri": "https://localhost:8080/"
        },
        "id": "FuEdjw5Dol-Q",
        "outputId": "7d2e39d7-088c-49c7-b3cc-b2bf34067aa9"
      },
      "source": [
        "from sklearn import preprocessing\r\n",
        "\r\n",
        "#Import and create LabelEncoder\r\n",
        "le = preprocessing.LabelEncoder()\r\n",
        "\r\n",
        "#Converting string Labels into numbers\r\n",
        "weather_encoded = le.fit_transform(weather)\r\n",
        "print(weather_encoded)"
      ],
      "execution_count": 4,
      "outputs": [
        {
          "output_type": "stream",
          "text": [
            "[2 2 2 0 1 1 1 0 2 2 1 2 0 0 1]\n"
          ],
          "name": "stdout"
        }
      ]
    },
    {
      "cell_type": "code",
      "metadata": {
        "colab": {
          "base_uri": "https://localhost:8080/"
        },
        "id": "I34SnxFno4LX",
        "outputId": "91200eeb-36bf-4422-bfa5-c90d3bd26541"
      },
      "source": [
        "temp_encoded = le.fit_transform(temp)\r\n",
        "label = le.fit_transform(play)\r\n",
        "print(\"Temp:\", temp_encoded)\r\n",
        "print(\"Play:\", label)"
      ],
      "execution_count": 5,
      "outputs": [
        {
          "output_type": "stream",
          "text": [
            "Temp: [1 1 1 2 0 0 0 2 0 2 2 2 1 2]\n",
            "Play: [0 0 1 1 1 0 1 0 1 1 1 1 1 0]\n"
          ],
          "name": "stdout"
        }
      ]
    },
    {
      "cell_type": "code",
      "metadata": {
        "colab": {
          "base_uri": "https://localhost:8080/"
        },
        "id": "R796PgjLpaQa",
        "outputId": "90cf7131-927e-4536-865b-4c563f8ee4eb"
      },
      "source": [
        "#Combining weather and temp intp single list of tuples\r\n",
        "\r\n",
        "features = zip(weather_encoded, temp_encoded)\r\n",
        "features = list(features)\r\n",
        "print(features)"
      ],
      "execution_count": 6,
      "outputs": [
        {
          "output_type": "stream",
          "text": [
            "[(2, 1), (2, 1), (2, 1), (0, 2), (1, 0), (1, 0), (1, 0), (0, 2), (2, 0), (2, 2), (1, 2), (2, 2), (0, 1), (0, 2)]\n"
          ],
          "name": "stdout"
        }
      ]
    },
    {
      "cell_type": "code",
      "metadata": {
        "colab": {
          "base_uri": "https://localhost:8080/"
        },
        "id": "REe4Qh8fporr",
        "outputId": "0708bc59-f1f0-4ea8-8dc6-073f984f12c9"
      },
      "source": [
        "#Import Gaussian Naive Bayes model\r\n",
        "from sklearn.naive_bayes import GaussianNB\r\n",
        "\r\n",
        "#create a gaussian classifier\r\n",
        "model = GaussianNB()\r\n",
        "\r\n",
        "#Train the model using the training sets\r\n",
        "model.fit(features, label)\r\n",
        "\r\n",
        "#Predict output\r\n",
        "predicted = model.predict([[0, 2]]) #0:Overcast, 2: Mild\r\n",
        "print(\"Predicted Value:\", predicted) #1: Yes"
      ],
      "execution_count": 7,
      "outputs": [
        {
          "output_type": "stream",
          "text": [
            "Predicted Value: [1]\n"
          ],
          "name": "stdout"
        }
      ]
    },
    {
      "cell_type": "code",
      "metadata": {
        "colab": {
          "base_uri": "https://localhost:8080/"
        },
        "id": "qcH_6zWdqaA4",
        "outputId": "572dd4d9-e5cd-4e87-d5ce-85da4e6ae871"
      },
      "source": [
        "#Import scikit-learn dataset library\r\n",
        "from sklearn import datasets\r\n",
        "\r\n",
        "#Load dataset\r\n",
        "wine = datasets.load_wine()\r\n",
        "\r\n",
        "#print the names of the 13 features\r\n",
        "print(\"Features: \", wine.feature_names)\r\n",
        "\r\n",
        "#print the label type of wine(class_0, class_1, class_2)\r\n",
        "print(\"Labels: \", wine.target_names)"
      ],
      "execution_count": 8,
      "outputs": [
        {
          "output_type": "stream",
          "text": [
            "Features:  ['alcohol', 'malic_acid', 'ash', 'alcalinity_of_ash', 'magnesium', 'total_phenols', 'flavanoids', 'nonflavanoid_phenols', 'proanthocyanins', 'color_intensity', 'hue', 'od280/od315_of_diluted_wines', 'proline']\n",
            "Labels:  ['class_0' 'class_1' 'class_2']\n"
          ],
          "name": "stdout"
        }
      ]
    },
    {
      "cell_type": "code",
      "metadata": {
        "colab": {
          "base_uri": "https://localhost:8080/"
        },
        "id": "mZW80LKAq22D",
        "outputId": "6bd0adc3-b89e-49c3-c944-6825d371689e"
      },
      "source": [
        "wine.data.shape"
      ],
      "execution_count": 9,
      "outputs": [
        {
          "output_type": "execute_result",
          "data": {
            "text/plain": [
              "(178, 13)"
            ]
          },
          "metadata": {
            "tags": []
          },
          "execution_count": 9
        }
      ]
    },
    {
      "cell_type": "code",
      "metadata": {
        "colab": {
          "base_uri": "https://localhost:8080/"
        },
        "id": "Rk-NEdEPq7rX",
        "outputId": "22b73aef-f607-4db0-9707-4c0dc96d0ad6"
      },
      "source": [
        "wine.data[0:5]"
      ],
      "execution_count": 10,
      "outputs": [
        {
          "output_type": "execute_result",
          "data": {
            "text/plain": [
              "array([[1.423e+01, 1.710e+00, 2.430e+00, 1.560e+01, 1.270e+02, 2.800e+00,\n",
              "        3.060e+00, 2.800e-01, 2.290e+00, 5.640e+00, 1.040e+00, 3.920e+00,\n",
              "        1.065e+03],\n",
              "       [1.320e+01, 1.780e+00, 2.140e+00, 1.120e+01, 1.000e+02, 2.650e+00,\n",
              "        2.760e+00, 2.600e-01, 1.280e+00, 4.380e+00, 1.050e+00, 3.400e+00,\n",
              "        1.050e+03],\n",
              "       [1.316e+01, 2.360e+00, 2.670e+00, 1.860e+01, 1.010e+02, 2.800e+00,\n",
              "        3.240e+00, 3.000e-01, 2.810e+00, 5.680e+00, 1.030e+00, 3.170e+00,\n",
              "        1.185e+03],\n",
              "       [1.437e+01, 1.950e+00, 2.500e+00, 1.680e+01, 1.130e+02, 3.850e+00,\n",
              "        3.490e+00, 2.400e-01, 2.180e+00, 7.800e+00, 8.600e-01, 3.450e+00,\n",
              "        1.480e+03],\n",
              "       [1.324e+01, 2.590e+00, 2.870e+00, 2.100e+01, 1.180e+02, 2.800e+00,\n",
              "        2.690e+00, 3.900e-01, 1.820e+00, 4.320e+00, 1.040e+00, 2.930e+00,\n",
              "        7.350e+02]])"
            ]
          },
          "metadata": {
            "tags": []
          },
          "execution_count": 10
        }
      ]
    },
    {
      "cell_type": "code",
      "metadata": {
        "colab": {
          "base_uri": "https://localhost:8080/"
        },
        "id": "_cG7g6p1q-n3",
        "outputId": "34e78449-eb2a-4efd-f84c-4f34bff3d118"
      },
      "source": [
        "wine.target\r\n",
        "# class_0: 0, class_1: 1, class_2: 2"
      ],
      "execution_count": 11,
      "outputs": [
        {
          "output_type": "execute_result",
          "data": {
            "text/plain": [
              "array([0, 0, 0, 0, 0, 0, 0, 0, 0, 0, 0, 0, 0, 0, 0, 0, 0, 0, 0, 0, 0, 0,\n",
              "       0, 0, 0, 0, 0, 0, 0, 0, 0, 0, 0, 0, 0, 0, 0, 0, 0, 0, 0, 0, 0, 0,\n",
              "       0, 0, 0, 0, 0, 0, 0, 0, 0, 0, 0, 0, 0, 0, 0, 1, 1, 1, 1, 1, 1, 1,\n",
              "       1, 1, 1, 1, 1, 1, 1, 1, 1, 1, 1, 1, 1, 1, 1, 1, 1, 1, 1, 1, 1, 1,\n",
              "       1, 1, 1, 1, 1, 1, 1, 1, 1, 1, 1, 1, 1, 1, 1, 1, 1, 1, 1, 1, 1, 1,\n",
              "       1, 1, 1, 1, 1, 1, 1, 1, 1, 1, 1, 1, 1, 1, 1, 1, 1, 1, 1, 1, 2, 2,\n",
              "       2, 2, 2, 2, 2, 2, 2, 2, 2, 2, 2, 2, 2, 2, 2, 2, 2, 2, 2, 2, 2, 2,\n",
              "       2, 2, 2, 2, 2, 2, 2, 2, 2, 2, 2, 2, 2, 2, 2, 2, 2, 2, 2, 2, 2, 2,\n",
              "       2, 2])"
            ]
          },
          "metadata": {
            "tags": []
          },
          "execution_count": 11
        }
      ]
    },
    {
      "cell_type": "code",
      "metadata": {
        "colab": {
          "base_uri": "https://localhost:8080/"
        },
        "id": "rSDg_CGjrJpS",
        "outputId": "a34d6b3a-634c-49d8-eed2-10fabf5516b3"
      },
      "source": [
        "#As we need to divide the sets into training set and test set\r\n",
        "\r\n",
        "#import train_test_split function\r\n",
        "from sklearn.model_selection import train_test_split\r\n",
        "\r\n",
        "#split dataset into training set and test set\r\n",
        "#70% training and 30% test\r\n",
        "X_train, X_test, y_train, y_test = train_test_split(wine.data, wine.target, test_size = 0.3, random_state = 109)\r\n",
        "\r\n",
        "#Import Gaussian Naive Bayes model\r\n",
        "from sklearn.naive_bayes import GaussianNB\r\n",
        "\r\n",
        "#Create a Gaussian Classifier\r\n",
        "gnb = GaussianNB()\r\n",
        "\r\n",
        "#Train the model using the training sets\r\n",
        "gnb.fit(X_train, y_train)\r\n",
        "\r\n",
        "#Predict the response for test dataset\r\n",
        "y_pred = gnb.predict(X_test)\r\n",
        "\r\n",
        "#import scikit-learn metrics module for accuracy calculation\r\n",
        "from sklearn import metrics\r\n",
        "\r\n",
        "#Model Accuracy, how often is the classifier correct?\r\n",
        "print(\"Accuracy:\", metrics.accuracy_score(y_test, y_pred))"
      ],
      "execution_count": 14,
      "outputs": [
        {
          "output_type": "stream",
          "text": [
            "Accuracy: 0.9074074074074074\n"
          ],
          "name": "stdout"
        }
      ]
    },
    {
      "cell_type": "markdown",
      "metadata": {
        "id": "yu53WT8utCO0"
      },
      "source": [
        "나이브 베이즈의 장단점\r\n",
        "장점\r\n",
        "\r\n",
        "1. 간단하고, 빠르며, 정확한 모델입니다.\r\n",
        "\r\n",
        "2. computation cost가 작습니다. (따라서 빠릅니다.)\r\n",
        "\r\n",
        "3. 큰 데이터셋에 적합합니다.\r\n",
        "\r\n",
        "4. 연속형보다 이산형 데이터에서 성능이 좋습니다.\r\n",
        "\r\n",
        "5. Multiple class 예측을 위해서도 사용할 수 있습니다.\r\n",
        "\r\n",
        "단점\r\n",
        "\r\n",
        "feature 간의 독립성이 있어야 합니다. 하지만 실제 데이터에서 모든 feature가 독립인 경우는 드뭅니다. 장점이 많지만 feature가 서로 독립이어야 한다는 크리티컬한 단점이 있습니다.\r\n",
        "\r\n",
        "feature간 독립성이 있다는 말은 feature간에 서로 상관관계가 없다는 뜻입니다. X1과 X2라는 feature가 있을 때 X1이 증가하면 X2도 같이 증가한다고 합시다. 그럼 X1과 X2는 서로 상관관계가 있다고 말할 수 있고, 이는 X1과 X2가 독립성이 없다는 뜻입니다. X1과 X2가 독립성이 있으려면 X1이 증가하든 말든, X2에는 아무런 영향을 미치지 않아야 합니다. 하지만 우리가 얻을 수 있는 데이터에서는 feature간의 독립성이 항상 보장되지는 않습니다. 나이브 베이즈 모델은 feature간 독립성이 있다는 가정하에 성립되는 모델이기 때문에 실생활에서 바로 적용하기는 어려움있습니다."
      ]
    }
  ]
}